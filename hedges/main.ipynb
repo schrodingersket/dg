{
 "cells": [
  {
   "cell_type": "markdown",
   "source": [
    "# 1D Discontinuous Galerkin Shallow Water Solver\n",
    "\n",
    "We solve the 1D Shallow Water Equations in conservative form:\n",
    "\n",
    "\\begin{align*}\n",
    "    h_t + q_x &= 0 \\\\\n",
    "    q_t + \\left[ \\frac{q^2}{h} + \\frac{1}{2} g h^2 \\right]_x &= -g h b_x - C_f \\left(\\frac{q}{h}\\right)^2\n",
    "\\end{align*}\n",
    "\n",
    "In this notebook, we neglect friction so that $C_f = 0$.\n",
    "\n",
    "We begin by importing appropriate libraries, modules, etc. and defining our physical domain. We'll define initial conditions for height and flow and plot these against the system's variable bathymetry:"
   ],
   "metadata": {
    "collapsed": false
   }
  },
  {
   "cell_type": "code",
   "execution_count": 3,
   "outputs": [
    {
     "data": {
      "text/plain": "<Figure size 640x480 with 2 Axes>",
      "image/png": "[encoded data removed]"
     },
     "metadata": {},
     "output_type": "display_data"
    }
   ],
   "source": [
    "# Enable interactive plots\n",
    "#\n",
    "%matplotlib inline\n",
    "\n",
    "import numpy as np\n",
    "from scipy import optimize\n",
    "import matplotlib.pyplot as plt\n",
    "\n",
    "import swe_1d\n",
    "import fluxes\n",
    "import quadrature\n",
    "import rk\n",
    "\n",
    "\n",
    "# Physical parameters\n",
    "#\n",
    "g = 9.81  # gravity\n",
    "inflow_rate = 0.05\n",
    "\n",
    "tspan = (0.0, 2.0)\n",
    "xspan = (-1.0, 1.0)\n",
    "x_l, x_r = xspan\n",
    "\n",
    "\n",
    "def initial_condition(xx):\n",
    "    \"\"\"\n",
    "    Creates initial conditions for (h, uh).\n",
    "\n",
    "    :param xx:\n",
    "    :return:\n",
    "    \"\"\"\n",
    "    initial_height = 0.5 * np.ones(xx.shape) - swe_bathymetry(xx)  # water at rest\n",
    "    initial_flow = np.zeros(xx.shape)\n",
    "\n",
    "    ic = np.array((\n",
    "        initial_height,\n",
    "        initial_flow,\n",
    "    ))\n",
    "\n",
    "    return ic\n",
    "\n",
    "\n",
    "eps = 20\n",
    "amplitude = 0.01\n",
    "\n",
    "\n",
    "def swe_bathymetry(xx):\n",
    "    return -0.05 * xx + amplitude * np.exp(-np.square(eps*xx))\n",
    "\n",
    "\n",
    "def swe_bathymetry_derivative(xx):\n",
    "    return -0.05 * np.ones(xx.shape) + amplitude * -2*np.square(eps)*xx * np.exp(-np.square(eps*xx))\n",
    "\n",
    "\n",
    "# Plot bathymetry and ICs\n",
    "#\n",
    "XX = np.linspace(x_l, x_r, num=100)\n",
    "fig, (h_ax, hv_ax) = plt.subplots(2, 1)\n",
    "\n",
    "ic = initial_condition(XX)\n",
    "bb = swe_bathymetry(XX)\n",
    "\n",
    "# Plot bathymetry\n",
    "#\n",
    "h_ax.plot(XX, ic[0] + bb)\n",
    "h_ax.plot(XX, bb)\n",
    "h_ax.set_ylim([-0.05, 1.0])\n",
    "h_ax.set_title('Initial wave height $h(x, 0)$')\n",
    "\n",
    "# Plot flow rate\n",
    "#\n",
    "hv_ax.plot(XX, ic[1])\n",
    "hv_ax.set_ylim([-0.05, 0.05])\n",
    "hv_ax.set_title('Initial flow rate $q(x, 0)$')\n",
    "\n",
    "plt.tight_layout()"
   ],
   "metadata": {
    "collapsed": false,
    "ExecuteTime": {
     "end_time": "2023-07-11T07:27:34.682454052Z",
     "start_time": "2023-07-11T07:27:34.549629509Z"
    }
   }
  },
  {
   "cell_type": "markdown",
   "source": [
    "From here, we'll define our prescribed inflow and free outflow boundary conditions:"
   ],
   "metadata": {
    "collapsed": false
   }
  },
  {
   "cell_type": "code",
   "execution_count": 4,
   "outputs": [
    {
     "name": "stdout",
     "output_type": "stream",
     "text": [
      "Creating boundary conditions...\n",
      "Boundary conditions created!\n"
     ]
    }
   ],
   "source": [
    "print('Creating boundary conditions...')\n",
    "\n",
    "def q_bc(t):\n",
    "    \"\"\"\n",
    "    Prescribed inflow rate as a function of time\n",
    "\n",
    "    :param t:\n",
    "    :return:\n",
    "    \"\"\"\n",
    "    return inflow_rate * t if t < 1 else inflow_rate  # Constant inflow\n",
    "\n",
    "\n",
    "# Prescribed inflow flux (derived by equating backward characteristics at the leftmost interface)\n",
    "#\n",
    "def prescribed_inflow(q_in):\n",
    "    \"\"\"\n",
    "    Maintains a (possibly time-dependent) prescribed rate of flow at the inflow boundary by setting\n",
    "    backward characteristics for upwinded values and cell values equal at the leftmost boundary.\n",
    "\n",
    "    :param q_in: A function with time as its single parameter, which should return the rate of flow\n",
    "                 at a particular time.\n",
    "    :return:\n",
    "    \"\"\"\n",
    "    def _flux_function(u_l, u_r, xx, t, f, f_prime):\n",
    "        h_r, q_r = u_r\n",
    "\n",
    "        # Backward characteristic\n",
    "        #\n",
    "        w_b = q_r / h_r - 2 * np.sqrt(g * h_r)\n",
    "\n",
    "        # Evaluate prescribed bathymetry value at t\n",
    "        #\n",
    "        q = q_in(t)\n",
    "\n",
    "        # We solve for the square root of h to avoid numerical issues with Newton's method\n",
    "        #\n",
    "        sqrt_h = optimize.newton(\n",
    "            lambda hh: q / np.square(hh) - 2 * np.sqrt(g) * hh - w_b,\n",
    "            x0=np.square(h_r),\n",
    "            fprime=lambda hh: -2 * q / hh ** 3 - 2 * np.sqrt(g),\n",
    "            maxiter=500\n",
    "        )\n",
    "\n",
    "        h = np.square(sqrt_h)\n",
    "\n",
    "        return fluxes.lax_friedrichs_flux(np.array((h, q)), u_r, xx, t, f, f_prime)\n",
    "\n",
    "    return _flux_function\n",
    "\n",
    "\n",
    "def transmissive_outflow(u_l, u_r, xx, t, f, f_prime):\n",
    "    \"\"\"\n",
    "    Create a transmissive boundary by setting left and right (\"ghost\") states the same and computing\n",
    "    corresponding local Lax-Friedrichs flux.\n",
    "\n",
    "    For details see Section 9.2.5 of the book:\n",
    "    - Eleuterio F. Toro (2001)\n",
    "      Shock-Capturing Methods for Free-Surface Shallow Flows\n",
    "      1st edition\n",
    "      ISBN 0471987662\n",
    "\n",
    "    :param u_l:\n",
    "    :param u_r:\n",
    "    :param xx:\n",
    "    :param t:\n",
    "    :param f:\n",
    "    :param f_prime:\n",
    "    :return:\n",
    "    \"\"\"\n",
    "    return fluxes.lax_friedrichs_flux(u_l, u_l, xx, t, f, f_prime)\n",
    "\n",
    "print('Boundary conditions created!')"
   ],
   "metadata": {
    "collapsed": false,
    "ExecuteTime": {
     "end_time": "2023-07-11T07:27:47.761938917Z",
     "start_time": "2023-07-11T07:27:47.760017235Z"
    }
   }
  },
  {
   "cell_type": "markdown",
   "source": [
    "...at which point we are now ready to instantiate and run our solver:"
   ],
   "metadata": {
    "collapsed": false
   }
  },
  {
   "cell_type": "code",
   "execution_count": 5,
   "outputs": [
    {
     "name": "stdout",
     "output_type": "stream",
     "text": [
      "Integrating ODE system...\n",
      "Computing u' at t=0.17873269077576998\n",
      "Computing u' at t=0.1065803422461831\n",
      "Computing u' at t=0.21057958817302502\n",
      "Computing u' at t=0.3170961276925608\n",
      "Computing u' at t=0.42128498354396965\n",
      "Computing u' at t=0.5266265845246477\n",
      "Computing u' at t=0.633116498144827\n",
      "Computing u' at t=0.738419828490019\n",
      "Computing u' at t=0.8425859322568905\n",
      "Computing u' at t=0.9482347136259744\n",
      "Computing u' at t=1.0530195874936086\n",
      "Computing u' at t=1.158200058586326\n",
      "Computing u' at t=1.2632697916961666\n",
      "Computing u' at t=1.3684943181291995\n",
      "Computing u' at t=1.4745004677948343\n",
      "Computing u' at t=1.580121464744847\n",
      "Computing u' at t=1.6844429137859591\n",
      "Computing u' at t=1.7899051936566504\n",
      "Computing u' at t=1.8948746754402646\n",
      "Writing animation to swe_1d.gif...\n",
      "Saving animation frame 1/100\n",
      "Saving animation frame 51/100\n",
      "Animation written to file! View the animation from the file browser at: swe_1d.gif\n"
     ]
    },
    {
     "data": {
      "text/plain": "<Figure size 640x480 with 2 Axes>",
      "image/png": "[encoded data removed]"
     },
     "metadata": {},
     "output_type": "display_data"
    }
   ],
   "source": [
    "# Instantiate solver with bathymetry\n",
    "#\n",
    "solver = swe_1d.ShallowWater1D(\n",
    "    b=swe_bathymetry,\n",
    "    b_x=swe_bathymetry_derivative,\n",
    "    g=g\n",
    ")\n",
    "\n",
    "\n",
    "t_interval_ms = 20\n",
    "dt = t_interval_ms / 1000\n",
    "\n",
    "print('Integrating ODE system...')\n",
    "solution = solver.solve(\n",
    "    tspan=tspan,\n",
    "    xspan=xspan,\n",
    "    cell_count=16,\n",
    "    polydeg=5,\n",
    "    initial_condition=initial_condition,\n",
    "    intercell_flux=fluxes.lax_friedrichs_flux,\n",
    "    left_boundary_flux=prescribed_inflow(q_bc),\n",
    "    right_boundary_flux=transmissive_outflow,\n",
    "    quad_rule=quadrature.gll,\n",
    "    **{\n",
    "        'method': 'RK45',\n",
    "        # 'method': rk.SSPRK33,  # Uncomment to use a strong-stability preserving RK method\n",
    "        't_eval': np.arange(tspan[0], tspan[1], dt),\n",
    "        'max_step': dt,  # max time step for ODE solver\n",
    "        'rtol': 1.0e-6,\n",
    "        'atol': 1.0e-6,\n",
    "\n",
    "    }\n",
    ")\n",
    "\n",
    "ani, plt = solver.plot_animation(solution, frame_interval=t_interval_ms)\n",
    "\n",
    "movie_name = 'swe_1d.gif'\n",
    "print('Writing animation to {}...'.format(movie_name))\n",
    "ani.save(movie_name, progress_callback=lambda i, n: print(f'Saving animation frame {i + 1}/{n}') if i % 50 == 0 else None)\n",
    "print('Animation written to file! View the animation from the file browser at: {}'.format(movie_name))\n"
   ],
   "metadata": {
    "collapsed": false,
    "ExecuteTime": {
     "end_time": "2023-07-11T07:28:33.742424879Z",
     "start_time": "2023-07-11T07:27:54.561163070Z"
    }
   }
  },
  {
   "cell_type": "markdown",
   "source": [
    "![SWE Animation](swe_1d.gif)\n"
   ],
   "metadata": {
    "collapsed": false
   }
  }
 ],
 "metadata": {
  "kernelspec": {
   "display_name": "Python 3",
   "language": "python",
   "name": "python3"
  },
  "language_info": {
   "codemirror_mode": {
    "name": "ipython",
    "version": 2
   },
   "file_extension": ".py",
   "mimetype": "text/x-python",
   "name": "python",
   "nbconvert_exporter": "python",
   "pygments_lexer": "ipython2",
   "version": "2.7.6"
  }
 },
 "nbformat": 4,
 "nbformat_minor": 0
}
